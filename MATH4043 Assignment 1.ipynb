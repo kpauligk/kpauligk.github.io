{
 "metadata": {
  "name": "",
  "signature": "sha256:6d8b6c1e05fd35245b549f7acb52708f17552cf5de394e10e32723e8d4b2955c"
 },
 "nbformat": 3,
 "nbformat_minor": 0,
 "worksheets": [
  {
   "cells": [
    {
     "cell_type": "markdown",
     "metadata": {},
     "source": [
      "# MATH4043 Assignment 1"
     ]
    },
    {
     "cell_type": "markdown",
     "metadata": {},
     "source": [
      "##Question 1\n",
      "\n",
      "There are 5 males, 5 females and 5 dogs."
     ]
    },
    {
     "cell_type": "markdown",
     "metadata": {},
     "source": [
      "(a) Calculate the total number of ways of selecting 3 males, 3 females and 2 dogs from\n",
      "the lot."
     ]
    },
    {
     "cell_type": "markdown",
     "metadata": {},
     "source": [
      "Using the *mn* rule, the number of combinations are:\n",
      "\n",
      "$$\n",
      "\\eqalign{\n",
      "Males: m&=(_3^5), Females: n=(_3^5), Dogs: p=(_2^5)\\cr\n",
      "m \\times n \\times p &= (10)(10)(10)\\cr\n",
      "&= 1000\n",
      "}\n",
      "$$\n",
      "\n",
      "<br />"
     ]
    },
    {
     "cell_type": "markdown",
     "metadata": {},
     "source": [
      "(b) Calculate the total number of ways of the selection in part (a) that includes Tommy\n",
      "(a particular male), Tammy (a particular female) and Snoppy (a particular dog)."
     ]
    },
    {
     "cell_type": "markdown",
     "metadata": {},
     "source": [
      "<br />\n",
      "Number including Tommy (m<sub>1</sub>): 6\n",
      "\n",
      "Number including Tammy (f<sub>1</sub>): 6\n",
      "\n",
      "Number including Snoppy (d<sub>1</sub>): 4\n",
      "\n",
      "Total number of ways:\n",
      "$$\n",
      "\\eqalign{\n",
      "&=(6)(6)(4) \\cr\n",
      "&= 144\n",
      "}\n",
      "$$\n",
      "\n",
      "<br />"
     ]
    },
    {
     "cell_type": "markdown",
     "metadata": {},
     "source": [
      "(c) What is the probability that the selection in part (a) includes Tommy, Tammy and\n",
      "Snoppy?"
     ]
    },
    {
     "cell_type": "markdown",
     "metadata": {},
     "source": [
      "<br />\n",
      "$$\n",
      "\\eqalign{\n",
      "\\rm I\\! P(m_1, f_1, d_1) &= 144 / 1000\\cr\n",
      "&= 0.144\n",
      "}\n",
      "$$\n",
      "<br />"
     ]
    },
    {
     "cell_type": "markdown",
     "metadata": {},
     "source": [
      "## Question 2\n",
      "\n",
      "Consider a coin tossing experiment where a fair coin is tossed two times. You may assume\n",
      "that each toss is independent of the other."
     ]
    },
    {
     "cell_type": "markdown",
     "metadata": {},
     "source": [
      "(a) What is the sample space of this experiment?"
     ]
    },
    {
     "cell_type": "markdown",
     "metadata": {},
     "source": [
      "Using the mn rule, sample space is:\n",
      "$$\n",
      "\\eqalign{\n",
      "S &= 2 \\times 2 \\cr \n",
      "&= 4\n",
      "}\n",
      "$$"
     ]
    },
    {
     "cell_type": "markdown",
     "metadata": {},
     "source": [
      "(b) *X* is a random variable that counts the number of heads in the two coin tosses. Map\n",
      "each sample point in the sample space to the possible values of X."
     ]
    },
    {
     "cell_type": "markdown",
     "metadata": {},
     "source": [
      "$$\n",
      "X \\in \\{ 0, 1, 2\\}\n",
      "$$\n",
      "\n",
      "$$\n",
      "\\eqalign{\n",
      "x&=0, \\{TT\\} \\cr\n",
      "x&=1, \\{HT,TH\\} \\cr \n",
      "x&=2, \\{HH\\} \\cr\n",
      "}\n",
      "$$"
     ]
    },
    {
     "cell_type": "markdown",
     "metadata": {},
     "source": [
      "(c) Y is a random variable that assigns the value 0 when same faces are observed after\n",
      "tossing the coin twice; and Y assigns the value 1 when two different faces of the coin\n",
      "are observed after the two tosses. Map each sample point in the sample space to\n",
      "the possible values of Y ."
     ]
    },
    {
     "cell_type": "markdown",
     "metadata": {},
     "source": [
      "$$\n",
      "Y \\in \\{ 0, 1\\}\n",
      "$$\n",
      "\n",
      "$$\n",
      "\\eqalign{\n",
      "y&=0, \\{HH,TT\\} \\cr \n",
      "y&=1, \\{HT, TH\\} \\cr\n",
      "}\n",
      "$$"
     ]
    },
    {
     "cell_type": "markdown",
     "metadata": {},
     "source": [
      "<br />\n",
      "(d) Compute $\\rm I\\! P[X = x|Y = y]$ for all the values of $x$ and $y$.\n",
      "\n",
      "$$\n",
      "\\rm I\\! P[X=x|Y=y] = \\frac{\\rm I\\! P(X=x \\cap Y=y)}{\\rm I\\! P(Y=y)}\n",
      "$$\n",
      "\n",
      "x=0, y=0:\n",
      "$$\n",
      "\\eqalign{\n",
      "\\rm I\\! P(x \\cap y) &= \\frac{1}{4} \\cr\n",
      "\\rm I\\! P(y) &= \\frac{2}{4} \\cr\n",
      "\\rm I\\! P[x|y] &= \\frac{1}{4} / \\frac{2}{4} \\cr\n",
      "&= \\frac{1}{2}\n",
      "}\n",
      "$$\n",
      "\n",
      "x=1, y=0:\n",
      "$$\n",
      "\\eqalign{\n",
      "{\\rm I\\! P(x \\cap y)} = 0 \\cr\n",
      "{\\therefore \\rm I\\! P[x|y] = 0}\n",
      "}\n",
      "$$\n",
      "\n",
      "x=2, y=0:\n",
      "$$\n",
      "\\eqalign{\n",
      "\\rm I\\! P(x \\cap y) &= \\frac{1}{4} \\cr\n",
      "\\rm I\\! P(y) &= \\frac{2}{4} \\cr\n",
      "\\rm I\\! P[x|y] &= \\frac{1}{4} / \\frac{2}{4} \\cr\n",
      "&= \\frac{1}{2}\n",
      "}\n",
      "$$\n",
      "\n",
      "x=0, y=1:\n",
      "$$\n",
      "\\eqalign{\n",
      "{\\rm I\\! P(x \\cap y)} = 0 \\cr\n",
      "{\\therefore \\rm I\\! P[x|y] = 0}\n",
      "}\n",
      "$$\n",
      "x=1, y=1:\n",
      "$$\n",
      "\\eqalign{\n",
      "\\rm I\\! P(x \\cap y) &= \\frac{2}{4} \\cr\n",
      "\\rm I\\! P(y) &= \\frac{2}{4} \\cr\n",
      "\\rm I\\! P[x|y] &= \\frac{2}{4} / \\frac{2}{4} \\cr\n",
      "&= 1\n",
      "}\n",
      "$$\n",
      "\n",
      "x=2, y=1:\n",
      "$$\n",
      "\\eqalign{\n",
      "{\\rm I\\! P(x \\cap y)} = 0 \\cr\n",
      "{\\therefore \\rm I\\! P[x|y] = 0}\n",
      "}\n",
      "$$\n",
      "<br />"
     ]
    },
    {
     "cell_type": "markdown",
     "metadata": {},
     "source": [
      "<br />\n",
      "(e) Compute $\\rm I\\! P[Y = y|X = x]$ for all the values of $x$ and $y$.\n",
      "\n",
      "$$\n",
      "\\rm I\\! P[Y=y|X=x] = \\frac{\\rm I\\! P(Y=y \\cap X=x)}{\\rm I\\! P(X=x)}\n",
      "$$\n",
      "\n",
      "x=0, y=0:\n",
      "$$\n",
      "\\eqalign{\n",
      "\\rm I\\! P(y \\cap x) &= \\frac{1}{4} \\cr\n",
      "\\rm I\\! P(x) &= \\frac{1}{4} \\cr\n",
      "\\rm I\\! P[y|x] &= \\frac{1}{4} / \\frac{1}{4} \\cr\n",
      "&= 1\n",
      "}\n",
      "$$\n",
      "\n",
      "x=1, y=0:\n",
      "$$\n",
      "\\eqalign{\n",
      "{\\rm I\\! P(y \\cap x)} = 0 \\cr\n",
      "{\\therefore \\rm I\\! P[y|x] = 0}\n",
      "}\n",
      "$$\n",
      "\n",
      "x=2, y=0:\n",
      "$$\n",
      "\\eqalign{\n",
      "\\rm I\\! P(y \\cap x) &= \\frac{1}{4} \\cr\n",
      "\\rm I\\! P(x) &= \\frac{1}{4} \\cr\n",
      "\\rm I\\! P[y|x] &= \\frac{1}{4} / \\frac{2}{4} \\cr\n",
      "&= 1\n",
      "}\n",
      "$$\n",
      "\n",
      "x=0, y=1:\n",
      "$$\n",
      "\\eqalign{\n",
      "{\\rm I\\! P(y \\cap x)} = 0 \\cr\n",
      "{\\therefore \\rm I\\! P[y|x] = 0}\n",
      "}\n",
      "$$\n",
      "\n",
      "x=1, y=1:\n",
      "$$\n",
      "\\eqalign{\n",
      "\\rm I\\! P( y \\cap x) &= \\frac{2}{4} \\cr\n",
      "\\rm I\\! P(x) &= \\frac{2}{4} \\cr\n",
      "\\rm I\\! P[y|x] &= \\frac{2}{4} / \\frac{2}{4} \\cr\n",
      "&= 1\n",
      "}\n",
      "$$\n",
      "\n",
      "x=2, y=1:\n",
      "$$\n",
      "\\eqalign{\n",
      "{\\rm I\\! P(y \\cap x)} = 0 \\cr\n",
      "{\\therefore \\rm I\\! P[y|x] = 0}\n",
      "}\n",
      "$$\n",
      "<br />"
     ]
    },
    {
     "cell_type": "markdown",
     "metadata": {},
     "source": [
      "## Question 3\n",
      "\n",
      "Consider the function \n",
      "$$\n",
      "f(x) = \\begin{cases}\n",
      "k, \\; 0 < y < k \\cr\n",
      "2k, \\; k \\le y \\le 2k\n",
      "\\end{cases}\n",
      "$$"
     ]
    },
    {
     "cell_type": "markdown",
     "metadata": {},
     "source": [
      "<br />\n",
      "(a) Find k so that f(x) is a probability density function.\n",
      "\n",
      "Let:\n",
      "$$\n",
      "\\eqalign{\n",
      "a &= \\int_0^k{k\\;dx} \\cr\n",
      "&= kx \\Big]_0^k \\cr\n",
      "&= k^2 - 0 \\cr\n",
      "&= k^2\n",
      "}\n",
      "$$\n",
      "\n",
      "Let:\n",
      "$$\n",
      "\\eqalign{\n",
      "b &= \\int_k^{2k}{2k\\;dx} \\cr\n",
      "&= 2kx \\Big]_k^{2k} \\cr\n",
      "&= 4k^2 - 2k^2 \\cr\n",
      "&= 2k^2\n",
      "}\n",
      "$$\n",
      "\n",
      "given $\\rm I\\! P(X) = 1$:\n",
      "$$\n",
      "\\eqalign {\n",
      "1 &= a + b \\cr\n",
      "1 &= k^2 + 2k^2 \\cr\n",
      "1 &= 3k^2 \\cr\n",
      "\\frac{1}{3} &= k^2 \\cr\n",
      "k &= \\sqrt{\\frac{1}{3}}\n",
      "}\n",
      "$$\n",
      "\n",
      "$$\n",
      "\\therefore\n",
      "f(x) = \\begin{cases}\n",
      "\\sqrt{\\frac{1}{3}}, \\; 0 < x < \\sqrt{\\frac{1}{3}} \\cr\n",
      "2\\sqrt{\\frac{1}{3}}, \\; \\sqrt{\\frac{1}{3}} \\le x \\le 2\\sqrt{\\frac{1}{3}}\n",
      "\\end{cases}\n",
      "$$\n",
      "<br />"
     ]
    },
    {
     "cell_type": "markdown",
     "metadata": {},
     "source": [
      "<br />\n",
      "(b) Find E[X] and Var[X].\n",
      "\n",
      "$$\n",
      "\\rm I\\! E[X] = \\int x \\cdot f(x)\\;dx\n",
      "$$\n",
      "\n",
      "Let:\n",
      "$$\n",
      "\\eqalign{\n",
      "a &= \\int_0^\\sqrt{\\frac{1}{3}}x\\cdot{\\sqrt{\\frac{1}{3}}\\;dx} \\cr\n",
      "&= \\frac{1}{2} \\sqrt{ \\frac{1}{3}} \\bigg[ x^2 \\bigg]_0^\\sqrt{\\frac{1}{3}} \\cr\n",
      "&= \\frac{1}{2} \\sqrt{ \\frac{1}{3}}\\sqrt{\\frac{1}{3}}^2  - 0 \\cr\n",
      "&= \\frac{1}{6}\\sqrt{\\frac{1}{3}}\n",
      "}\n",
      "$$\n",
      "\n",
      "Let:\n",
      "$$\n",
      "\\eqalign{\n",
      "b &= \\int_\\sqrt{\\frac{1}{3}}^{2\\sqrt{\\frac{1}{3}}}x\\cdot{2\\sqrt{\\frac{1}{3}}\\;dx} \\cr\n",
      "&= \\sqrt{\\frac{1}{3}}\\bigg[ x^2 \\bigg]_\\sqrt{\\frac{1}{3}}^{2\\sqrt{\\frac{1}{3}}} \\cr\n",
      "&= \\sqrt{\\frac{1}{3}}\\bigg[   (2\\sqrt{\\frac{1}{3}})^2 - (\\sqrt{\\frac{1}{3}})^2 \\bigg] \\cr\n",
      "&= \\frac{4}{3}\\sqrt{\\frac{1}{3}} - \\frac{1}{3}\\sqrt{\\frac{1}{3}} \\cr\n",
      "&= \\sqrt{\\frac{1}{3}}\n",
      "}\n",
      "$$\n",
      "\n",
      "\n",
      "$$\n",
      "\\eqalign{\n",
      "\\therefore\n",
      "\\rm I\\! E[X] &= a + b \\cr\n",
      "&= \\frac{1}{6}\\sqrt{\\frac{1}{3}} + \\sqrt{\\frac{1}{3}} \\cr\n",
      "&= \\frac{7}{6}\\sqrt{\\frac{1}{3}}\n",
      "}\n",
      "$$\n",
      "<br />"
     ]
    },
    {
     "cell_type": "markdown",
     "metadata": {},
     "source": [
      "Variance:\n",
      "\n",
      "$$\n",
      "Var[X] = \\rm I\\! E[X^2] - \\rm I\\! E[X]^2\n",
      "$$\n",
      "\n",
      "$$\n",
      "\\rm I\\! E[X^2] = \\int x^2 \\cdot f(x)\\;dx\n",
      "$$\n",
      "\n",
      "Let:\n",
      "$$\n",
      "\\eqalign{\n",
      "a_2 &= \\int_0^\\sqrt{\\frac{1}{3}}x^2\\cdot{\\sqrt{\\frac{1}{3}}\\;dx} \\cr\n",
      "&= \\frac{1}{3} \\sqrt{ \\frac{1}{3}} \\bigg[ x^3 \\bigg]_0^\\sqrt{\\frac{1}{3}} \\cr\n",
      "&= \\frac{1}{3} \\sqrt{ \\frac{1}{3}}\\sqrt{\\frac{1}{3}}^3  - 0 \\cr\n",
      "&= \\frac{1}{27}\n",
      "}\n",
      "$$\n"
     ]
    },
    {
     "cell_type": "markdown",
     "metadata": {},
     "source": [
      "Let:\n",
      "$$\n",
      "\\eqalign{\n",
      "b_2 &= \\int_\\sqrt{\\frac{1}{3}}^{2\\sqrt{\\frac{1}{3}}}x^2\\cdot{2\\sqrt{\\frac{1}{3}}\\;dx} \\cr\n",
      "&= \\frac{2}{3}\\sqrt{\\frac{1}{3}} \\bigg[ x^3 \\bigg]_\\sqrt{\\frac{1}{3}}^{2\\sqrt{\\frac{1}{3}}} \\cr\n",
      "&= \\frac{2}{3}\\sqrt{\\frac{1}{3}} \\bigg[ (2\\sqrt{\\frac{1}{3}})^3 - (\\sqrt{\\frac{1}{3}})^3 \\bigg] \\cr\n",
      "&= \\frac{2}{3}\\sqrt{\\frac{1}{3}} \\bigg[ \\frac{8}{3}\\sqrt{\\frac{1}{3}} - \\frac{1}{3}\\sqrt{\\frac{1}{3}} \\bigg] \\cr\n",
      "&= \\frac{2\\sqrt{\\frac{1}{3}}}{3} \\bigg[ \\frac{7\\sqrt{\\frac{1}{3}}}{3} \\bigg] \\cr\n",
      "&= \\frac{\\frac{14}{3}}{9} \\cr\n",
      "&= \\frac{14}{27}\n",
      "}\n",
      "$$\n"
     ]
    },
    {
     "cell_type": "markdown",
     "metadata": {},
     "source": [
      "<br />\n",
      "$$\n",
      "\\eqalign{\n",
      "\\rm I\\! E[X^2] &= a_2 + b_2 \\cr\n",
      "&= \\frac{15}{27}\n",
      "}\n",
      "$$\n",
      "\n",
      "$$\n",
      "\\eqalign{\n",
      "\\therefore \n",
      "Var[X] &= \\frac{15}{27} - (\\frac{7}{6}\\sqrt{\\frac{1}{3}})^2 \\cr\n",
      "&= \\frac{15}{27} - \\frac{49}{36}\\frac{1}{3} \\cr\n",
      "&= \\frac{60}{108} - \\frac{49}{108} \\cr\n",
      "&= \\frac{11}{108}\n",
      "}\n",
      "$$\n",
      "<br />"
     ]
    },
    {
     "cell_type": "markdown",
     "metadata": {},
     "source": [
      "## Question 4\n",
      "Consider the probability density function"
     ]
    },
    {
     "cell_type": "markdown",
     "metadata": {},
     "source": [
      "$$\n",
      "f(x) = \\begin{cases}\n",
      "y, \\; 0 < y < 1, \\cr\n",
      "2 - y, \\; 1 \\le y \\le 2, \\cr\n",
      "0, \\; otherwise\n",
      "\\end{cases}\n",
      "$$"
     ]
    },
    {
     "cell_type": "markdown",
     "metadata": {},
     "source": [
      "(a) Graph f(y)."
     ]
    },
    {
     "cell_type": "markdown",
     "metadata": {},
     "source": [
      "![alt text](Figure1.png "Figure 1. f(y)")"
     ]
    },
    {
     "cell_type": "markdown",
     "metadata": {},
     "source": [
      "(b) Find F(y) and graph it."
     ]
    },
    {
     "cell_type": "markdown",
     "metadata": {},
     "source": [
      "$$\n",
      "F(y) = \\begin{cases}\n",
      "\\frac{1}{2}y^2, \\; 0 < y < 1, \\cr\n",
      "2y - \\frac{1}{2}y^2, \\; 1 \\le y \\le 2, \\cr\n",
      "0, \\; otherwise\n",
      "\\end{cases}\n",
      "$$"
     ]
    },
    {
     "cell_type": "markdown",
     "metadata": {},
     "source": [
      "![alt text](Figure2.png "Figure 2. F(y)")"
     ]
    },
    {
     "cell_type": "markdown",
     "metadata": {},
     "source": [
      "<br />\n",
      "(c) Find $\\rm I\\! P[0.8 \\le Y \\le 1.2]$\n",
      "\n",
      "\n",
      "Let\n",
      "$$\n",
      "\\eqalign{\n",
      "a &=  \\frac{1}{2} y^2 \\bigg]_{0.8}^1 \\cr\n",
      "&= \\frac{1}{2} \\bigg[ (1)^2 - (0.8)^2 \\bigg] \\cr\n",
      "&= \\frac{1}{2} \\times \\frac{9}{25} \\cr\n",
      "&= \\frac{9}{50}\n",
      "}\n",
      "$$\n",
      "\n",
      "Let\n",
      "$$\n",
      "\\eqalign{\n",
      "b &= 2y - \\frac{1}{2}y^2 \\bigg]_{1}^{1.2} \\cr\n",
      "&=  \\big(2(1.2) - \\frac{1}{2}(1.2)^2\\big) - \\big(2(1) - \\frac{1}{2}(1)^2\\big) \\cr\n",
      "&=  \\big( \\frac{12}{5} - \\frac{36}{50}\\big) - \\big(2 - \\frac{1}{2} \\big) \\cr\n",
      "&=   \\frac{84}{50} - \\frac{3}{2} \\cr\n",
      "&= \\frac{9}{50}\n",
      "}\n",
      "$$\n",
      "\n",
      "$$\n",
      "\\therefore \\rm I\\! P[0.8 \\le Y \\le 1.2] = a + b = \\frac{18}{50}\n",
      "$$\n",
      "<Br />"
     ]
    },
    {
     "cell_type": "markdown",
     "metadata": {},
     "source": [
      "<Br />\n",
      "(d) Find $\\rm I\\! P[Y \\gt 1|Y \\gt 1.5]$\n",
      "\n",
      "$$\n",
      "\\rm I\\! P[Y \\gt 1|Y \\gt 1.5] \\equiv \\rm I\\! P[Y \\gt 1.5] \\text{ as } Y \\gt 1.5 \\text{ is a subset of } Y \\gt 1\n",
      "$$\n",
      "\n",
      "$$\n",
      "\\eqalign{\n",
      "\\therefore \\rm I\\! P[Y \\gt 1.5] &= 2y - \\frac{1}{2}y^2 \\bigg]_{1.5}^{2} \\cr\n",
      "&=  \\big(2(2) - \\frac{1}{2}(2)^2\\big) - \\big(2(1.5) - \\frac{1}{2}(1.5)^2\\big) \\cr\n",
      "&=  \\big( 4 - 2 \\big) - \\big(3 - \\frac{9}{8} \\big) \\cr\n",
      "&=   2 - \\frac{15}{8} \\cr\n",
      "&= \\frac{1}{8}\n",
      "}\n",
      "$$\n",
      "<Br />"
     ]
    },
    {
     "cell_type": "markdown",
     "metadata": {},
     "source": [
      "## Question 5\n",
      "Consider the bivariate random variables (Y1; Y2) with joint probability mass function given\n",
      "by the table below.\n",
      "\n",
      "|                  | $Y_2$ = 1 | $Y_2$ = 2 | $Y_2$ = 3 |\n",
      "|------------------|----------:|----------:|----------:|\n",
      "|$Y_1$ = 1 |0.2|0.1|0.2|\n",
      "|$Y_1$ = 2 |0.1|0.2|0.2|\n",
      "\n",
      "<br />"
     ]
    },
    {
     "cell_type": "markdown",
     "metadata": {},
     "source": [
      "<br />\n",
      "(a) Find the marginal probability mass functions of $Y_1$ and $Y_2$.\n",
      "\n",
      "Adding the marginals to the table:\n",
      "\n",
      "|                  | $Y_2$ = 1 | $Y_2$ = 2 | $Y_2$ = 3 | Total |\n",
      "|------------------|----------:|----------:|----------:|\n",
      "|$Y_1$ = 1 |0.2|0.1|0.2|0.5|\n",
      "|$Y_1$ = 2 |0.1|0.2|0.2|0.5|\n",
      "| Total    |0.3|0.3|0.4|\n",
      "\n",
      "$f(y_1)$          \n",
      "\n",
      "| 1 | 2 |\n",
      "|--:|--:|\n",
      "|0.5|0.5|\n",
      "\n",
      "$f(y_2)$          \n",
      "\n",
      "| 1 | 2 | 3 |\n",
      "|--:|--:|--:|\n",
      "|0.3|0.3|0.4|\n",
      "\n",
      "<br />"
     ]
    },
    {
     "cell_type": "markdown",
     "metadata": {},
     "source": [
      "<br />\n",
      "(b) Are Y1 and Y2 independent?\n",
      "\n",
      "Independance test is if $\\rm I\\! P(Y_1|Y_2) = \\rm I\\! P(Y_1)\\rm I\\! P(Y_2)$\n",
      "\n",
      "Let $y_1=1, y_2=1$\n",
      "$$\n",
      "\\eqalign{\n",
      "\\rm I\\! P(y_1|y_2) &= \\frac{0.2}{0.3}\n",
      "&= \\frac{2}{3}\n",
      "}\n",
      "$$\n",
      "\n",
      "$$\n",
      "\\eqalign{\n",
      "\\rm I\\! P(y_1)\\rm I\\! P(y_2) &= 0.5 \\times 0.3\n",
      "&= \\frac{3}{20}\n",
      "}\n",
      "$$\n",
      "\n",
      "$$\n",
      "\\frac{2}{3} \\ne \\frac{3}{20}\n",
      "$$\n",
      "We can conclude that $Y_1$ and $Y_2$ are not independent\n",
      "\n",
      "<br />"
     ]
    },
    {
     "cell_type": "markdown",
     "metadata": {},
     "source": [
      "<br />\n",
      "(c) Calculate $\\rm I\\! E[Y_1]$, $Var[Y_1]$, $\\rm I\\! E[Y_2]$ and $Var[Y_2]$.\n",
      "\n",
      "$$\n",
      "\\eqalign{\n",
      "\\rm I\\! E[Y_1] &= \\sum_{y=1}^2 y \\cdot \\rm I\\! P(y) \\cr\n",
      "&= 1(0.5) + 2(0.5) \\cr\n",
      "&= 1.5 \\cr \n",
      "\\therefore \\mu_{Y_1} &= 1.5 \\cr \\cr\n",
      "\\rm I\\! E[Y_2] &= \\sum_{y=1}^3 y \\cdot \\rm I\\! P(y) \\cr\n",
      "&= 1(0.3) + 2(0.3) + 3(0.4) \\cr\n",
      "&= 2.1 \\cr \n",
      "\\therefore \\mu_{Y_2} &= 2.1 \\cr \\cr\n",
      "V[Y_1] &= \\rm I\\! E[(Y_1 - \\mu_{1})^2] \\cr\n",
      "&= \\sum_{y=1}^2 (y - \\mu_{1})^2 \\cdot \\rm I\\! P(y) \\cr\n",
      "&= (1-1.5)^2(0.5) + (2-1.5)^2(0.5) \\cr\n",
      "&= 0.125 + 0.125 \\cr\n",
      "&= 0.25 \\cr\n",
      "\\therefore \\sigma^2_{Y_1} &= 0.25 \\cr \\cr\n",
      "V[Y_2] &= \\rm I\\! E[(Y_2 - \\mu_{2})^2] \\cr\n",
      "&= \\sum_{y=1}^3 (y - \\mu_{2})^2 \\cdot \\rm I\\! P(y) \\cr\n",
      "&= (1-2.1)^2(0.3) + (2-2.1)^2(0.3)+ (3-2.1)^2(0.4) \\cr\n",
      "&= 0.363 + 0.125 + 0.125 \\cr\n",
      "&= 0.25 + 0.003 + 0.324 \\cr\n",
      "&= 0.69 \\cr \n",
      "\\therefore \\sigma^2_{Y_2} &= 0.69 \\cr \\cr\n",
      "}\n",
      "$$"
     ]
    },
    {
     "cell_type": "markdown",
     "metadata": {},
     "source": [
      "<br />\n",
      "(d) Calculate $Cov[Y1, Y2]$\n",
      "\n",
      "$$\n",
      "\\eqalign{\n",
      "Cov[Y1, Y2] &= \\rm I\\! E[Y_1, Y_2] - \\mu_{1}\\mu_{2} \n",
      "\\cr \\cr\n",
      "\\rm I\\! E[Y_1, Y_2] &= \\sum_{y_2=1}^3 \\sum_{y_1=1}^2 y_1 y_2 \\rm I\\! P(y_1, y_2) \\cr\n",
      "&= (1)(1)(0.2) + (1)(2)(0.1) + (1)(3)(0.2) + (2)(1)(0.1) + (2)(2)(0.2) + (2)(3)(0.2) \\cr\n",
      "&= 0.2 + 0.2 + 0.6 + 0.2 + 0.8 + 1.2 \\cr\n",
      "&= 3.2 \\cr\n",
      "\\cr\n",
      "Cov[Y1, Y2] &= 3.2 - (1.5)(2.1) \\cr\n",
      "&= 0.05\n",
      "}\n",
      "$$"
     ]
    }
   ],
   "metadata": {}
  }
 ]
}
