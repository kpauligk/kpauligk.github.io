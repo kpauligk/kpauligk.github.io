{
 "metadata": {
  "name": "",
  "signature": "sha256:0840a6404e40341cfb316d1bd1166ccdbd7660d837158c2cfc89c7754c9cc146"
 },
 "nbformat": 3,
 "nbformat_minor": 0,
 "worksheets": [
  {
   "cells": [
    {
     "cell_type": "code",
     "collapsed": false,
     "input": [
      "# load rpy2 magics\n",
      "%load_ext rpy2.ipython\n",
      "# inline mode\n",
      "%pylab inline\n",
      "# import required packages\n",
      "import numpy as np\n",
      "print \"\""
     ],
     "language": "python",
     "metadata": {},
     "outputs": [
      {
       "output_type": "stream",
       "stream": "stdout",
       "text": [
        "Populating the interactive namespace from numpy and matplotlib\n",
        "\n"
       ]
      }
     ],
     "prompt_number": 1
    },
    {
     "cell_type": "heading",
     "level": 2,
     "metadata": {},
     "source": [
      "MATH4043 Assignment 2"
     ]
    },
    {
     "cell_type": "markdown",
     "metadata": {},
     "source": [
      "###Question 1:\n",
      "\n",
      "Show that:"
     ]
    },
    {
     "cell_type": "markdown",
     "metadata": {},
     "source": [
      "$$\n",
      "\\eqalign{\n",
      "\\rm I\\! P[ \\bigcap^n_{i=1} A_i ] &\\ge 1 - \\sum^n_{i=1} \\rm I\\! P[\\overline{A_i}] \\cr\n",
      "\\text{Given that: } \\cr\n",
      "\\rm I\\! P[a \\cup b \\cup c] &\\leq \\rm I\\! P(a) + \\rm I\\! P(b) + \\rm I\\! P(c) \\cr\n",
      "\\text{And: } \\cr\n",
      "\\rm I\\! P[a \\cap b \\cap c] &= 1 - \\rm I\\! P\\overline{[a \\cup b \\cup c]} \\cr\n",
      "\\text{It follows that: } \\cr\n",
      "\\rm I\\! P[ \\bigcap^n_{i=1} A_i ] &\\ge 1 - \\sum^n_{i=1} \\rm I\\! P[\\overline{A_i}] \\cr\n",
      "\\text{Where the two expressions are equal for disjoint subsets.}\n",
      "}\n",
      "$$"
     ]
    },
    {
     "cell_type": "markdown",
     "metadata": {},
     "source": [
      "###Question 2:\n",
      "\n",
      "Consider the bivariate random variables ($Y_1, Y_2$) with joint probability mass function given by the table below:\n",
      "\n",
      "|       |$Y_2$=1 |$Y_2$=2|$Y_2$=3|\n",
      "|-------|------:|------:|------:|\n",
      "|$Y_1$=1|0.2    |0.1    |0.1    |\n",
      "|$Y_1$=2|0.1    |0.2    |0.1    |\n",
      "|$Y_1$=3|0.1    |0.1    |0.0    |\n",
      "\n",
      "\n"
     ]
    },
    {
     "cell_type": "markdown",
     "metadata": {},
     "source": [
      "####(a) Find the marginal probability mass function of $Y_1$ and $Y_2$"
     ]
    },
    {
     "cell_type": "markdown",
     "metadata": {},
     "source": [
      "\n",
      "|             |      1|      2|     3|\n",
      "|-------------|------:|------:|-----:|\n",
      "|$Y_1$, $Y_2$:|0.4    |0.4    |0.2   |\n",
      "\n"
     ]
    },
    {
     "cell_type": "markdown",
     "metadata": {},
     "source": [
      "####(b) Are $Y_1$ and $Y_2$ independent?\n",
      "\n",
      "If independent, $ \\rm I\\! P(Y_1, Y_2) = \\rm I\\! P(Y_1) \\rm I\\! P(Y_2)$\n",
      "\n",
      "Let $y_1=1$, $y_2=1$:\n",
      "\n",
      "$$\n",
      "\\eqalign{\n",
      "\\rm I\\! P(Y_1=1, Y_2=1) &= \\rm I\\! P(Y_1=1) \\rm I\\! P(Y_2=1) \\cr\n",
      "0.2 &= 0.4 \\times 0.4  \\cr\n",
      "0.2 &\\neq 0.16\n",
      "}\n",
      "$$\n",
      "\n",
      "$\\therefore$ they are not independent.\n"
     ]
    },
    {
     "cell_type": "markdown",
     "metadata": {},
     "source": [
      "####(c) Calculate $\\rm I\\! E[Y_1]$ and $\\rm I\\! E[Y_2]$\n",
      "\n",
      "$$\n",
      "\\eqalign{\n",
      "\\rm I\\! E[Y_1] &= \\rm I\\! E[Y_2]    \\cr\n",
      "&= \\sum^{3}_{y=1}y \\rm I\\! P(y)   \\cr\n",
      "&= (1)(0.4) + (2)(0.4) + (3)(0.2)   \\cr\n",
      "&= 1.8\n",
      "}\n",
      "$$\n",
      "\n"
     ]
    },
    {
     "cell_type": "markdown",
     "metadata": {},
     "source": [
      "####(d) Calculate $Cov[Y_1, Y_2]$\n",
      "\n",
      "$$\n",
      "\\eqalign{\n",
      "Cov[Y_1, Y_2] &= \\rm I\\! E[Y_1, Y_2] - \\mu_1\\mu_2    \\cr\n",
      "\\rm I\\! E[Y_1, Y_2] &=  \\sum^{3}_{y_1=1} \\sum^{3}_{y_2=1}y_1 y_2 \\rm I\\! P(y_1,y_2) \\cr\n",
      "&= (1)(1)(0.2) + (2)(1)(0.1) + (3)(1)(0.1) + (1)(2)(0.1) + (2)(2)(0.2) + (3)(2)(0.1) + (1)(3)(0.1) + (3)(2)(0.1) + (3)(3)(0)  \\cr\n",
      "&= 0.2 + 0.2 + 0.3 + 0.2 + 0.8 + 0.6 + 0.3 + 0.6 + 0   \\cr\n",
      "&= 3.2    \\cr\n",
      "\\cr\n",
      "Cov[Y_1, Y_2] &= 3.2 - (1.8)(1.8)    \\cr\n",
      "&= -0.04\n",
      "}\n",
      "$$\n",
      "\n"
     ]
    },
    {
     "cell_type": "markdown",
     "metadata": {},
     "source": [
      "###Question 3:"
     ]
    },
    {
     "cell_type": "markdown",
     "metadata": {},
     "source": [
      "####(a) Let W be distributed as Poisson with parameter $\\lambda$, show that the moment generating function W is:\n",
      "\n",
      "$$\n",
      "\\eqalign{\n",
      "M_w(t) &= e^{\\lambda(e^t-1)} \\cr\n",
      "\\cr\n",
      "m(t) &= \\rm I\\! E(e^{ty})     \\cr\n",
      "&= \\sum^{\\infty}_{y=0} e^{ty}\\rm I\\! P(y)   \\cr\n",
      "&= \\sum^{\\infty}_{y=0} e^{ty} \\frac{\\lambda^y e^{-\\lambda}}{y!}  \\cr\n",
      "&= e^{-\\lambda} \\sum^{\\infty}_{y=0} \\frac{(\\lambda e^t)^y}{y!}  \\cr\n",
      "\\cr\n",
      "\\text{Applying Taylor Series Expansion: } \\cr\n",
      "&= e^{-\\lambda} e^{\\lambda e^t}  \\cr\n",
      "&= e^{\\lambda(e^t-1)}  \\cr\n",
      "}\n",
      "$$\n"
     ]
    },
    {
     "cell_type": "markdown",
     "metadata": {},
     "source": [
      "####(b) Let Y be distributed as binomial Bin($n,p$), show that the moment generating function of Y is:\n",
      "$$\n",
      "\\eqalign{\n",
      "M_Y(t) &= \\big[pe^t + (1-p)\\big]^n   \\cr\n",
      "\\cr\n",
      "m(t) &= \\rm I\\! E(e^{ty})   \\cr\n",
      "&= \\sum^{n}_{y=0} (^n_y) (pe^t)^y (1-p)^{n-y} \\cr\n",
      "\\text{Using Binomial Expansion:} \\cr\n",
      "&= \\big[pe^t + (1-p)\\big]^n\n",
      "}\n",
      "$$\n"
     ]
    },
    {
     "cell_type": "markdown",
     "metadata": {},
     "source": [
      "#### (c) Let $\\lambda = np$ be fixed. Show that:\n",
      "\n",
      "$$\n",
      "\\eqalign{\n",
      "\\lim_{n \\to \\infty} M_Y(t) &= M_W(t)  \\cr\n",
      "\\lim_{n \\to \\infty} \\big[pe^t + (1-p)\\big]^n &= e^{np(e^t-1)}   \\cr\n",
      "\\text{Using: } \\lim_{n \\to \\infty}(1+\\frac{z}{n})^n  = e^z \\cr\n",
      "&= \\lim_{n \\to \\infty}\\big[1+\\frac{np(e^t-1)}{n}\\big]^n  \\cr\n",
      "&= \\lim_{n \\to \\infty}\\big[1+p(e^t-1)\\big]^n  \\cr\n",
      "&= \\lim_{n \\to \\infty} \\big[pe^t + (1-p)\\big]^n  \\cr\n",
      "}\n",
      "$$"
     ]
    },
    {
     "cell_type": "markdown",
     "metadata": {},
     "source": [
      "###Question 4:\n",
      "\n",
      "Evaluate the integral:\n",
      "$$\n",
      "\\int^1_{0.4}y(1-y)^2dy\n",
      "$$\n"
     ]
    },
    {
     "cell_type": "markdown",
     "metadata": {},
     "source": [
      "#### by hand:\n",
      "\n",
      "$$\n",
      "\\eqalign{\n",
      "\\int^1_{0.4}y(1-y)^2dy &=  y(1-y)(1-y)   \\cr\n",
      "&= \\int^1_{0.4} y(1-y)(1-y) dy  \\cr\n",
      "&= \\int^1_{0.4} y - 2y^2 + y^3 dy   \\cr   \n",
      "&= [ \\frac{1}{2}y^2 - \\frac{2}{3}y^3 + \\frac{1}{4}y^4 ]^1_{0.4}   \\cr\n",
      "&= [ \\frac{1}{2} - \\frac{2}{3} + \\frac{1}{4} ] - [ \\frac{1}{2}(0.16) - \\frac{2}{3}(0.064) + \\frac{1}{4}(0.0256) ]  \\cr\n",
      "&= \\frac{1}{12} - (0.08 - 0.0427 + 0.0064)    \\cr\n",
      "&= \\frac{1}{12} - 0.0437     \\cr\n",
      "&= 0.03963\n",
      "}\n",
      "$$"
     ]
    },
    {
     "cell_type": "markdown",
     "metadata": {},
     "source": [
      "#### using R:"
     ]
    },
    {
     "cell_type": "code",
     "collapsed": false,
     "input": [
      "%%R -o result\n",
      "# monte carlo simulation to compute the integral\n",
      "n <- 100000\n",
      "y <- runif(n, 0.4, 1)\n",
      "fy <- (1-0.4) * (y * ((1 - y)^2))\n",
      "result <- sum(fy)/n"
     ],
     "language": "python",
     "metadata": {},
     "outputs": [],
     "prompt_number": 2
    },
    {
     "cell_type": "code",
     "collapsed": false,
     "input": [
      "print(\"Simulated result (to 5 decimal places): {:0.5f}\".format(result[0]))"
     ],
     "language": "python",
     "metadata": {},
     "outputs": [
      {
       "output_type": "stream",
       "stream": "stdout",
       "text": [
        "Simulated result (to 5 decimal places): 0.03951\n"
       ]
      }
     ],
     "prompt_number": 3
    },
    {
     "cell_type": "markdown",
     "metadata": {},
     "source": [
      "###Question 5:\n",
      "\n",
      "Simulate Brownian motion in discrete time over [0,100] in R."
     ]
    },
    {
     "cell_type": "code",
     "collapsed": false,
     "input": [
      "%%R\n",
      "n <- 100\n",
      "x <- rnorm(n)\n",
      "x <- c(0,x)\n",
      "cx <- cumsum(x)\n",
      "plot(cx, type='l', xlab='t [0,100]', ylab='Cumulative Sum')\n"
     ],
     "language": "python",
     "metadata": {},
     "outputs": [
      {
       "metadata": {},
       "output_type": "display_data",
       "png": "[encoded data removed]"
      }
     ],
     "prompt_number": 4
    }
   ],
   "metadata": {}
  }
 ]
}
